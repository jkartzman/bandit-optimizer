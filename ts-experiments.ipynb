{
 "cells": [
  {
   "cell_type": "code",
   "execution_count": 6,
   "id": "197dd492-fbae-468d-afcc-fa1128faebb1",
   "metadata": {},
   "outputs": [],
   "source": [
    "def loss(x):\n",
    "    return x**4-3*(x**3)+x"
   ]
  },
  {
   "cell_type": "code",
   "execution_count": 39,
   "id": "ed245701-ef66-4bb0-8dc6-470778b1eef0",
   "metadata": {},
   "outputs": [],
   "source": [
    "import numpy as np\n",
    "# Simple implementation of GD (Forward Euler)\n",
    "# Global minimum at x=2.198 where f(2.198)=-6.318\n",
    "# Local minimum at x=-0.312 where f(-0.312)=-0.211\n",
    "\n",
    "def gradient(x):\n",
    "    return 4*(x**3)-9*(x**2)+1\n",
    "x_0 = -1\n",
    "x_1 = 4\n",
    "history_0 = []\n",
    "history_1 = []\n",
    "history_0.append(x_0)\n",
    "history_1.append(x_1)\n",
    "lr = 0.01\n",
    "for t in range(1000):\n",
    "    estimate_0 = np.random.choice(history_0)\n",
    "    estimate_1 = np.random.choice(history_1)\n",
    "    if estimate_0 <= estimate_1:\n",
    "        x_0 = x_0-lr*gradient(x_0)\n",
    "        history_0.append(x_0)\n",
    "    else: \n",
    "        x_1 = x_1-lr*gradient(x_1)\n",
    "        history_1.append(x_1)"
   ]
  },
  {
   "cell_type": "code",
   "execution_count": 41,
   "id": "735d4a1f-3394-430d-8f7e-55076088e417",
   "metadata": {},
   "outputs": [
    {
     "data": {
      "text/plain": [
       "-0.31235628309574354"
      ]
     },
     "execution_count": 41,
     "metadata": {},
     "output_type": "execute_result"
    }
   ],
   "source": [
    "history_0[-1]"
   ]
  },
  {
   "cell_type": "code",
   "execution_count": 42,
   "id": "d69c62fd-20be-4196-aad1-04bff28bd45e",
   "metadata": {},
   "outputs": [
    {
     "data": {
      "text/plain": [
       "4"
      ]
     },
     "execution_count": 42,
     "metadata": {},
     "output_type": "execute_result"
    }
   ],
   "source": [
    "history_1[-1]"
   ]
  }
 ],
 "metadata": {
  "kernelspec": {
   "display_name": "Python 3 (ipykernel)",
   "language": "python",
   "name": "python3"
  },
  "language_info": {
   "codemirror_mode": {
    "name": "ipython",
    "version": 3
   },
   "file_extension": ".py",
   "mimetype": "text/x-python",
   "name": "python",
   "nbconvert_exporter": "python",
   "pygments_lexer": "ipython3",
   "version": "3.12.8"
  }
 },
 "nbformat": 4,
 "nbformat_minor": 5
}
