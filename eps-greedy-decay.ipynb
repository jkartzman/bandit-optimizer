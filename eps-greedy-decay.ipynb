{
 "cells": [
  {
   "cell_type": "code",
   "execution_count": 1,
   "id": "8e811f6f-a1e3-4df1-8ab3-fac3d7c2b7fc",
   "metadata": {},
   "outputs": [],
   "source": [
    "def loss(x):\n",
    "    return x**4-3*(x**3)+x"
   ]
  },
  {
   "cell_type": "code",
   "execution_count": 72,
   "id": "3ab0a9c0-9d7b-4789-b37c-f8a764059da6",
   "metadata": {},
   "outputs": [
    {
     "name": "stdout",
     "output_type": "stream",
     "text": [
      "0\n",
      "1\n",
      "2\n",
      "3\n",
      "4\n",
      "5\n",
      "6\n",
      "7\n",
      "8\n",
      "9\n"
     ]
    }
   ],
   "source": [
    "import numpy as np\n",
    "# Simple implementation of GD (Forward Euler)\n",
    "# Global minimum at x=2.198 where f(2.198)=-6.318\n",
    "# Local minimum at x=-0.312 where f(-0.312)=-0.211\n",
    "# Separatrix at x=0.364091\n",
    "# If x>separatrix it will end up at the global minimum\n",
    "# If x<separatrix it will end up at the suboptimal local minimum\n",
    "\n",
    "def gradient(x):\n",
    "    return 4*(x**3)-9*(x**2)+1\n",
    "\n",
    "lr = 0.01\n",
    "T = 2500000\n",
    "sims = 10\n",
    "regret = np.zeros(T)\n",
    "for sim in range(sims):\n",
    "    print(sim)\n",
    "    # Correct arm\n",
    "    # x_0 = np.random.uniform(low=0.365,high=0.365+1.5)\n",
    "    x_0 = 4\n",
    "    # Incorrect arm\n",
    "    x_1 = -1\n",
    "    #sample_mean_0 = loss(x_0)\n",
    "    #sample_mean_1 = loss(x_1)\n",
    "    pulls_0 = 1\n",
    "    pulls_1 = 1\n",
    "    for t in range(1,T+1):\n",
    "        explore = np.random.binomial(1,1/t)\n",
    "        if explore:\n",
    "            arm = np.random.binomial(1,0.5)\n",
    "        else:\n",
    "            # arm = np.argmin([sample_mean_0,sample_mean_1])\n",
    "            arm = np.argmin([loss(x_0),loss(x_1)])\n",
    "        if arm == 0:\n",
    "            x_0 = x_0-lr*gradient(x_0)\n",
    "            #sample_mean_0 = (sample_mean_0*pulls_0+loss(x_0))/(pulls_0+1)\n",
    "            pulls_0 = pulls_0 + 1\n",
    "        else:\n",
    "            x_1 = x_1-lr*gradient(x_1)\n",
    "            #sample_mean_1 = (sample_mean_1*pulls_1+loss(x_1))/(pulls_1+1)\n",
    "            pulls_1 = pulls_1 + 1\n",
    "        regret[t-1] = (regret[t-1] + pulls_1-1)\n",
    "regret = regret/sims\n",
    "        "
   ]
  },
  {
   "cell_type": "code",
   "execution_count": 74,
   "id": "dc11b68d-8253-4bfc-b9e0-5ba0ace7ca61",
   "metadata": {},
   "outputs": [
    {
     "data": {
      "text/plain": [
       "2499995"
      ]
     },
     "execution_count": 74,
     "metadata": {},
     "output_type": "execute_result"
    }
   ],
   "source": [
    "pulls_0"
   ]
  },
  {
   "cell_type": "code",
   "execution_count": 73,
   "id": "d772539f-75bf-4ef9-8ead-e09fc0ffcccf",
   "metadata": {},
   "outputs": [
    {
     "data": {
      "text/plain": [
       "[<matplotlib.lines.Line2D at 0x7f2344e92e40>]"
      ]
     },
     "execution_count": 73,
     "metadata": {},
     "output_type": "execute_result"
    },
    {
     "data": {
      "image/png": "[encoded data removed]",
      "text/plain": [
       "<Figure size 640x480 with 1 Axes>"
      ]
     },
     "metadata": {},
     "output_type": "display_data"
    }
   ],
   "source": [
    "import matplotlib.pyplot as plt\n",
    "\n",
    "plt.plot(range(T), regret)"
   ]
  },
  {
   "cell_type": "code",
   "execution_count": 28,
   "id": "9382d1c0-926a-4f7f-87e9-33e6b4139b1f",
   "metadata": {},
   "outputs": [
    {
     "data": {
      "text/plain": [
       "array([2.12700139e+14, 1.05218451e-01, 3.00085787e-02, ...,\n",
       "       8.28249806e-03, 8.28246346e-03, 8.28242887e-03], shape=(25000,))"
      ]
     },
     "execution_count": 28,
     "metadata": {},
     "output_type": "execute_result"
    }
   ],
   "source": [
    "regret"
   ]
  }
 ],
 "metadata": {
  "kernelspec": {
   "display_name": "Python 3 (ipykernel)",
   "language": "python",
   "name": "python3"
  },
  "language_info": {
   "codemirror_mode": {
    "name": "ipython",
    "version": 3
   },
   "file_extension": ".py",
   "mimetype": "text/x-python",
   "name": "python",
   "nbconvert_exporter": "python",
   "pygments_lexer": "ipython3",
   "version": "3.12.8"
  }
 },
 "nbformat": 4,
 "nbformat_minor": 5
}
