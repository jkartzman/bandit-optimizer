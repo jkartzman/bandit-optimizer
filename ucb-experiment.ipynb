{
 "cells": [
  {
   "cell_type": "code",
   "execution_count": 1,
   "id": "5305f937-c9ba-438c-bee6-b04c8cfb5156",
   "metadata": {},
   "outputs": [],
   "source": [
    "def loss(x):\n",
    "    return x**4-3*(x**3)+x"
   ]
  },
  {
   "cell_type": "code",
   "execution_count": 10,
   "id": "9ae158d2-1638-41c0-995c-e2d82d582b3a",
   "metadata": {},
   "outputs": [],
   "source": [
    "import numpy as np\n",
    "# Simple implementation of GD (Forward Euler)\n",
    "# Global minimum at x=2.198 where f(2.198)=-6.318\n",
    "# Local minimum at x=-0.312 where f(-0.312)=-0.211\n",
    "\n",
    "def gradient(x):\n",
    "    return 4*(x**3)-9*(x**2)+1\n",
    "def ucb(x,n,t):\n",
    "    return x-np.sqrt(2*np.log(1+t*(np.log(t)**2))/n)\n",
    "x_0 = -1\n",
    "x_1 = 4\n",
    "history_0 = []\n",
    "history_1 = []\n",
    "history_0.append(x_0)\n",
    "history_1.append(x_1)\n",
    "lr = 0.01\n",
    "for t in range(1,10001):\n",
    "    estimate_0 = ucb(np.mean(history_0),len(history_0),t)\n",
    "    estimate_1 = ucb(np.mean(history_1),len(history_1),t)\n",
    "    if estimate_0 <= estimate_1:\n",
    "        x_0 = x_0-lr*gradient(x_0)\n",
    "        history_0.append(x_0)\n",
    "    else: \n",
    "        x_1 = x_1-lr*gradient(x_1)\n",
    "        history_1.append(x_1)"
   ]
  },
  {
   "cell_type": "code",
   "execution_count": 11,
   "id": "d4ba2b11-39ec-4daa-9250-c4f374e01790",
   "metadata": {},
   "outputs": [
    {
     "data": {
      "text/plain": [
       "[4, 2.87]"
      ]
     },
     "execution_count": 11,
     "metadata": {},
     "output_type": "execute_result"
    }
   ],
   "source": [
    "history_1"
   ]
  },
  {
   "cell_type": "code",
   "execution_count": null,
   "id": "4cc0c2db-b893-41bb-834b-adf4f97ac542",
   "metadata": {},
   "outputs": [],
   "source": []
  }
 ],
 "metadata": {
  "kernelspec": {
   "display_name": "Python 3 (ipykernel)",
   "language": "python",
   "name": "python3"
  },
  "language_info": {
   "codemirror_mode": {
    "name": "ipython",
    "version": 3
   },
   "file_extension": ".py",
   "mimetype": "text/x-python",
   "name": "python",
   "nbconvert_exporter": "python",
   "pygments_lexer": "ipython3",
   "version": "3.12.8"
  }
 },
 "nbformat": 4,
 "nbformat_minor": 5
}
